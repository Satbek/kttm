{
 "cells": [
  {
   "cell_type": "code",
   "execution_count": 1,
   "metadata": {},
   "outputs": [],
   "source": [
    "import sys\n",
    "sys.path.append('..')\n",
    "import model\n",
    "import numpy as np\n",
    "%matplotlib inline\n",
    "import matplotlib.pyplot as plt"
   ]
  },
  {
   "cell_type": "markdown",
   "metadata": {},
   "source": [
    "2. Отдельно пишете скрипт, который :\n",
    "\n",
    "    2.1. рассчитывает время работы методов на некотором временном отрезке\n",
    "\n",
    "    2.2. На каждом временном шаге вычисляет норму разницы между решением Верле и odeint и рисует график этой нормы. Графики нужно построить для шага delta t 0.1, 0.01, 0.001.\n",
    "\n",
    "Отдельно замечу, что odeint должен решать задачу на ВСЕМ временном отрезке, а не на каждом небольшом отрезке длины delta t."
   ]
  },
  {
   "cell_type": "code",
   "execution_count": 2,
   "metadata": {},
   "outputs": [],
   "source": [
    "particles_count = 10\n",
    "masses = np.random.rand(particles_count) * 10\n",
    "speed_x = np.random.rand(particles_count) * 2\n",
    "speed_y = np.random.rand(particles_count) * 2\n",
    "life_times = [10**6] * particles_count\n",
    "particles = []\n",
    "coord_x = np.random.rand(particles_count) * 100\n",
    "coord_y = np.random.rand(particles_count) * 100\n",
    "for i in range(particles_count):\n",
    "    particles.append(\n",
    "        model.Particle(\n",
    "            x = coord_x[i],\n",
    "            y = coord_y[i],\n",
    "            mass = masses[i],\n",
    "            speed_x = speed_x[i],\n",
    "            speed_y = speed_y[i],\n",
    "            life_time = life_times[i]\n",
    "        )\n",
    "    )"
   ]
  },
  {
   "cell_type": "code",
   "execution_count": 3,
   "metadata": {},
   "outputs": [
    {
     "name": "stdout",
     "output_type": "stream",
     "text": [
      "1 s ± 23.5 ms per loop (mean ± std. dev. of 7 runs, 1 loop each)\n"
     ]
    }
   ],
   "source": [
    "def count_verle_exec_time(time_step, time_interval):\n",
    "    verleSolver = model.VerleSimpleSolver(time_step = time_step)\n",
    "    %timeit res = verleSolver.solve(time_interval = time_interval, particles = particles)\n",
    "count_verle_exec_time(time_step = 0.1, time_interval = 100)"
   ]
  },
  {
   "cell_type": "code",
   "execution_count": 4,
   "metadata": {},
   "outputs": [
    {
     "name": "stdout",
     "output_type": "stream",
     "text": [
      "89 ms ± 401 µs per loop (mean ± std. dev. of 7 runs, 10 loops each)\n"
     ]
    }
   ],
   "source": [
    "def count_odeint_exec_time(time_step, time_interval):\n",
    "    odeintSolver = model.OdeintSolver(time_step = time_step)\n",
    "    %timeit res = odeintSolver.solve(time_interval = time_interval, particles = particles)\n",
    "count_odeint_exec_time(time_step = 0.1, time_interval = 100)"
   ]
  },
  {
   "cell_type": "code",
   "execution_count": null,
   "metadata": {},
   "outputs": [],
   "source": [
    "time_interval = 1000\n",
    "for delta in [10**-3, 10**-2, 10**-1]:\n",
    "    verleSolver = model.VerleSimpleSolver(time_step = delta)\n",
    "    res_verle = verleSolver.solve(time_interval = time_interval, particles = particles)\n",
    "\n",
    "    odeintSolver = model.OdeintSolver(time_step = delta)\n",
    "    res_odeint = odeintSolver.solve(time_interval = time_interval, particles = particles)\n",
    "\n",
    "    t = np.arange(0, time_interval, delta)\n",
    "    res = []\n",
    "    for verle_particles, odeint_particles in zip(res_verle, res_odeint):\n",
    "        x_s_verle = np.array([p.x for p in verle_particles])\n",
    "        x_s_odeint = np.array([p.x for p in odeint_particles])\n",
    "        y_s_verle = np.array([p.y for p in verle_particles])\n",
    "        y_s_odeint = np.array([p.y for p in odeint_particles])\n",
    "        res.append(\n",
    "            np.sqrt(np.linalg.norm(x_s_verle - x_s_odeint)**2 + np.linalg.norm(y_s_verle - y_s_odeint)**2)\n",
    "        )\n",
    "    plt.plot(t, res, label = \"delta = {0}\".format(delta))\n",
    "plt.legend()"
   ]
  }
 ],
 "metadata": {
  "kernelspec": {
   "display_name": "Python 3",
   "language": "python",
   "name": "python3"
  },
  "language_info": {
   "codemirror_mode": {
    "name": "ipython",
    "version": 3
   },
   "file_extension": ".py",
   "mimetype": "text/x-python",
   "name": "python",
   "nbconvert_exporter": "python",
   "pygments_lexer": "ipython3",
   "version": "3.7.3"
  }
 },
 "nbformat": 4,
 "nbformat_minor": 2
}
